{
 "cells": [
  {
   "cell_type": "code",
   "execution_count": 16,
   "metadata": {},
   "outputs": [],
   "source": [
    "import cv2\n",
    "import numpy as np\n",
    "img = cv2.imread(\"/home/anastasia/Рабочий стол/5.png\",  cv2.IMREAD_GRAYSCALE)\n",
    "#img = cv2.bitwise_not(img)\n",
    "cv2.imshow(\"image\",img)\n",
    "cv2.waitKey(0)\n",
    "cv2.destroyAllWindows()"
   ]
  },
  {
   "cell_type": "code",
   "execution_count": 17,
   "metadata": {},
   "outputs": [],
   "source": [
    "def wavefrontRegionGrowing(img):\n",
    "#    if (img.type != cv2.CV_32SC1):\n",
    "#        print(\"image is not cv_32sc1\")\n",
    "#        return\n",
    "    spreading_map = cv2.cvtColor(img, cv2.COLOR_RGB2GRAY)\n",
    "    finished = False\n",
    "    while (finished == False):\n",
    "        finished = True\n",
    "        for row in range(1, spreading_map.shape[0] - 1):\n",
    "            for column in range (1, spreading_map.shape[1] - 1):\n",
    "                if (spreading_map[row][column] > 65279):\n",
    "                    set_value = False\n",
    "                    for row_counter in range(-1, 1):\n",
    "                        if (set_value is True):\n",
    "                            break\n",
    "                        for column_counter in range (-1, 1):\n",
    "                            if (set_value is True):\n",
    "                                break\n",
    "                            value = img[row + row_counter][column+column_counter]\n",
    "                            if (value != 0) and (value < 65279):\n",
    "                                print(sprea)\n",
    "                                spreading_map[row][column] = value\n",
    "                                set_value = True\n",
    "                                finished = False\n",
    "    return spreading_map"
   ]
  },
  {
   "cell_type": "code",
   "execution_count": 18,
   "metadata": {},
   "outputs": [],
   "source": [
    "def segmentmap(file, map_resolution,room_area_factor_lower_limit, room_area_factor_upper_limit):\n",
    "    temp_map = file.copy()\n",
    "    for i in range (20):\n",
    "        erode_kernel = cv2.getStructuringElement(cv2.MORPH_ERODE, (3,3))\n",
    "        #gray=cv2.threshold(file,200,255,cv2.THRESH_BINARY)[1]\n",
    "        temp_map= cv2.erode(temp_map, erode_kernel)\n",
    "        ##eroded=cv2.cvtColor(eroded,cv2.COLOR_BGR2GRAY)\n",
    "\n",
    "        contour_map = temp_map\n",
    "        temp_contours, hierarchy = cv2.findContours(contour_map, cv2.RETR_CCOMP, cv2.CHAIN_APPROX_SIMPLE)\n",
    "        hierarchy = hierarchy[0]\n",
    "        saved_contours = []\n",
    "        if (len(temp_contours) != 0):\n",
    "            for curr_contour in range (len(temp_contours)):\n",
    "                if (hierarchy[curr_contour][3] == -1):\n",
    "                    room_area = map_resolution * map_resolution * cv2.contourArea(temp_contours[curr_contour])\n",
    "                    for hole in range (len(temp_contours)):\n",
    "                        if (hierarchy[hole][3] == curr_contour):\n",
    "                            room_area -= map_resolution * map_resolution * cv2.contourArea(temp_contours[hole])\n",
    "                if ((room_area_factor_lower_limit < room_area) and (room_area < room_area_factor_upper_limit)):\n",
    "                   ## print (\"room area:\", room_area)\n",
    "                    saved_contours.append(temp_contours[curr_contour])\n",
    "                    cv2.drawContours(temp_map, temp_contours, curr_contour, cv2.COLOR_BGR2HSV)\n",
    "    print (\"number of rooms found:\", len(saved_contours))\n",
    "    \n",
    "    segmented_map = cv2.cvtColor(file, cv2.COLOR_GRAY2RGB)\n",
    "    \n",
    "    ##cv2.imshow(\"image\",segmented_map)\n",
    "    ##cv2.waitKey(0)\n",
    "    ##cv2.destroyAllWindows()\n",
    "    \n",
    "    already_used_colors = []\n",
    "    for i in range (len(saved_contours)):\n",
    "        drawn = False\n",
    "        draw_counter = 0\n",
    "        while (not drawn):\n",
    "            draw_counter+=1\n",
    "            color1 = (list(np.random.choice(range(256), size=3)))  \n",
    "            fill_color =[int(color1[0]), int(color1[1]), int(color1[2])] \n",
    "            if ((fill_color not in already_used_colors) or draw_counter > 250):\n",
    "                cv2.drawContours(segmented_map, saved_contours, i, fill_color, cv2.FILLED)\n",
    "                already_used_colors.append(fill_color)\n",
    "                drawn = True\n",
    "    cv2.imshow(\"image\",segmented_map)\n",
    "    cv2.waitKey(0)\n",
    "    cv2.destroyAllWindows()\n",
    "    \n",
    "    for row in range(file.shape[0]):\n",
    "        for col in range(file.shape[1]):\n",
    "            if file[row][col] is 0:\n",
    "                segmented_map[row][col] = 0\n",
    "                \n",
    "    segmented_map = wavefrontRegionGrowing(segmented_map)    \n",
    "    cv2.imshow(\"image\",segmented_map)\n",
    "    cv2.waitKey(0)\n",
    "    cv2.destroyAllWindows()"
   ]
  },
  {
   "cell_type": "code",
   "execution_count": 19,
   "metadata": {},
   "outputs": [
    {
     "name": "stdout",
     "output_type": "stream",
     "text": [
      "number of rooms found: 0\n"
     ]
    }
   ],
   "source": [
    "segmentmap(img, 0.05, 0.08, 470)"
   ]
  },
  {
   "cell_type": "code",
   "execution_count": null,
   "metadata": {},
   "outputs": [],
   "source": []
  }
 ],
 "metadata": {
  "kernelspec": {
   "display_name": "Python 3",
   "language": "python",
   "name": "python3"
  },
  "language_info": {
   "codemirror_mode": {
    "name": "ipython",
    "version": 3
   },
   "file_extension": ".py",
   "mimetype": "text/x-python",
   "name": "python",
   "nbconvert_exporter": "python",
   "pygments_lexer": "ipython3",
   "version": "3.5.2"
  }
 },
 "nbformat": 4,
 "nbformat_minor": 4
}
