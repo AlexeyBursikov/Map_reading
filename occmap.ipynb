{
  "nbformat": 4,
  "nbformat_minor": 0,
  "metadata": {
    "colab": {
      "name": "occmap.ipynb",
      "provenance": [],
      "collapsed_sections": []
    },
    "kernelspec": {
      "name": "python3",
      "display_name": "Python 3"
    }
  },
  "cells": [
    {
      "cell_type": "code",
      "metadata": {
        "id": "P3ovnsdZcf6m",
        "colab_type": "code",
        "outputId": "969e56c3-5c95-4574-d6f3-94ad085e5c5f",
        "colab": {
          "base_uri": "https://localhost:8080/",
          "height": 122
        }
      },
      "source": [
        "from google.colab import drive\n",
        "drive.mount('/content/drive/')"
      ],
      "execution_count": 1,
      "outputs": [
        {
          "output_type": "stream",
          "text": [
            "Go to this URL in a browser: https://accounts.google.com/o/oauth2/auth?client_id=947318989803-6bn6qk8qdgf4n4g3pfee6491hc0brc4i.apps.googleusercontent.com&redirect_uri=urn%3aietf%3awg%3aoauth%3a2.0%3aoob&response_type=code&scope=email%20https%3a%2f%2fwww.googleapis.com%2fauth%2fdocs.test%20https%3a%2f%2fwww.googleapis.com%2fauth%2fdrive%20https%3a%2f%2fwww.googleapis.com%2fauth%2fdrive.photos.readonly%20https%3a%2f%2fwww.googleapis.com%2fauth%2fpeopleapi.readonly\n",
            "\n",
            "Enter your authorization code:\n",
            "··········\n",
            "Mounted at /content/drive/\n"
          ],
          "name": "stdout"
        }
      ]
    },
    {
      "cell_type": "code",
      "metadata": {
        "id": "0PbqiClTc3ny",
        "colab_type": "code",
        "outputId": "4adbeb40-f62a-4e72-93c3-ff83e9a1d8f2",
        "colab": {
          "base_uri": "https://localhost:8080/",
          "height": 34
        }
      },
      "source": [
        "%cd drive/My Drive/robot"
      ],
      "execution_count": 2,
      "outputs": [
        {
          "output_type": "stream",
          "text": [
            "/content/drive/My Drive/robot\n"
          ],
          "name": "stdout"
        }
      ]
    },
    {
      "cell_type": "code",
      "metadata": {
        "id": "Jf1Hvfn0wnzY",
        "colab_type": "code",
        "outputId": "ac72fca2-5401-47d8-91d1-aff55d0540c1",
        "colab": {
          "base_uri": "https://localhost:8080/",
          "height": 51
        }
      },
      "source": [
        "!ls"
      ],
      "execution_count": 3,
      "outputs": [
        {
          "output_type": "stream",
          "text": [
            "canny.jpg  hough.jpg  ImagesGT\tlinesDetected.jpg  occmap.ipynb\n",
            "CVC-FP\t   images     img\toccmap1.ipynb\n"
          ],
          "name": "stdout"
        }
      ]
    },
    {
      "cell_type": "code",
      "metadata": {
        "id": "HBRITxRLA2dq",
        "colab_type": "code",
        "colab": {}
      },
      "source": [
        "import cv2\n",
        "import numpy as np\n",
        "from google.colab.patches import cv2_imshow\n"
      ],
      "execution_count": 0,
      "outputs": []
    },
    {
      "cell_type": "code",
      "metadata": {
        "id": "ZFZqpAT0-55G",
        "colab_type": "code",
        "colab": {}
      },
      "source": [
        "def findmap(img_vh):\n",
        "  h, w = img_vh.shape\n",
        "  l = w\n",
        "  r = 0\n",
        "  t = h\n",
        "  b = 0\n",
        "  min1 = max(h,w)\n",
        "  min2 = max(h,w)\n",
        "\n",
        "  for i in range(2*h//3):\n",
        "    unique1, counts1 = np.unique(img_vh[i,:], return_counts=True)\n",
        "\n",
        "    if min1 >= counts1[0]:\n",
        "      min1 = counts1[0]\n",
        "      l = i\n",
        "    unique2, counts2 = np.unique(img_vh[h-i-1,:], return_counts=True)\n",
        "    if min2 >= counts2[0]:\n",
        "      min2 = counts2[0]\n",
        "      r = h-i\n",
        "\n",
        "  min1 = max(h,w)\n",
        "  min2 = max(h,w)\n",
        "  for i in range(2*w//3):\n",
        "    unique1, counts1 = np.unique(img_vh[:,i], return_counts=True)\n",
        "\n",
        "    if min1 >= counts1[0]:\n",
        "      min1 = counts1[0]\n",
        "      t = i\n",
        "\n",
        "    unique2, counts2 = np.unique(img_vh[:,w-i-1], return_counts=True)\n",
        "\n",
        "    if min2 >= counts2[0]:\n",
        "      min2 = counts2[0]\n",
        "      b = w-i\n",
        "  #return l,r,t,b\n",
        "  return t, l, b, r\n",
        "\n"
      ],
      "execution_count": 0,
      "outputs": []
    },
    {
      "cell_type": "code",
      "metadata": {
        "id": "nDn8HYWpL8CP",
        "colab_type": "code",
        "colab": {}
      },
      "source": [
        "def find_img_vh(file):\n",
        "  img = cv2.imread(file,0)\n",
        "  img.shape\n",
        "  #thresholding the image to a binary image\n",
        "  thresh,img_bin = cv2.threshold(img,128,255,cv2.THRESH_BINARY |cv2.THRESH_OTSU)\n",
        "  #inverting the image \n",
        "  img_bin = 255-img_bin\n",
        "\n",
        "  # Length(width) of kernel as 100th of total width\n",
        "  kernel_len = np.array(img).shape[1]//100\n",
        "  # Defining a vertical kernel to detect all vertical lines of image \n",
        "  ver_kernel = cv2.getStructuringElement(cv2.MORPH_RECT, (1, kernel_len))\n",
        "  # Defining a horizontal kernel to detect all horizontal lines of image\n",
        "  hor_kernel = cv2.getStructuringElement(cv2.MORPH_RECT, (kernel_len, 1))\n",
        "  # A kernel of 2x2\n",
        "  kernel = cv2.getStructuringElement(cv2.MORPH_RECT, (2, 2))\n",
        "\n",
        "  #Use vertical kernel to detect and save the vertical lines in a jpg\n",
        "  image_1 = cv2.erode(img_bin, ver_kernel, iterations=3)\n",
        "  vertical_lines = cv2.dilate(image_1, ver_kernel, iterations=3)\n",
        "\n",
        "  #Use horizontal kernel to detect and save the horizontal lines in a jpg\n",
        "  image_2 = cv2.erode(img_bin, hor_kernel, iterations=3)\n",
        "  horizontal_lines = cv2.dilate(image_2, hor_kernel, iterations=3)\n",
        "\n",
        "  # Combine horizontal and vertical lines in a new third image, with both having same weight.\n",
        "  img_vh = cv2.addWeighted(vertical_lines, 0.5, horizontal_lines, 0.5, 0.0)\n",
        "  #Eroding and thesholding the image\n",
        "  img_vh = cv2.erode(~img_vh, kernel, iterations=2)\n",
        "  thresh, img_vh = cv2.threshold(img_vh,128,255, cv2.THRESH_BINARY | cv2.THRESH_OTSU)\n",
        "  return img_vh\n",
        "\n",
        "def crop_map(file):\n",
        "  img_vh = find_img_vh(file)\n",
        "  x1,y1,x2,y2=findmap(img_vh)\n",
        "  img = cv2.imread(file,1)\n",
        "  return img[y1:y2, x1:x2]\n",
        "\n",
        "\n",
        "def occ_map(file):\n",
        "  img = crop_map(file)\n",
        "\n",
        "  gray=cv2.threshold(img,200,255,cv2.THRESH_BINARY)[1]\n",
        "  #gray=cv2.blur(gray,(15,1))\n",
        "  dilate_kernel = cv2.getStructuringElement(cv2.MORPH_RECT, (1,1))\n",
        "  #dilate = cv2.erode(th, dilate_kernel, iterations=1)\n",
        "\n",
        "  dilate = cv2.dilate(gray, dilate_kernel, iterations=1)\n",
        "  dilate=cv2.cvtColor(dilate,cv2.COLOR_BGR2GRAY)\n",
        "  contours,hierarchy = cv2.findContours(dilate,cv2.RETR_TREE ,cv2.CHAIN_APPROX_NONE )\n",
        "  drawing = np.zeros(img.shape, np.uint8)\n",
        "  h,w,c = drawing.shape\n",
        "  min_area = h*w//100\n",
        "  for cnt in contours:\n",
        "      area = cv2.contourArea(cnt)\n",
        "      if area>min_area:\n",
        "          cv2.drawContours(drawing,[cnt],0,(255,255,255),1)\n",
        "\n",
        "  return drawing"
      ],
      "execution_count": 0,
      "outputs": []
    },
    {
      "cell_type": "code",
      "metadata": {
        "id": "cguIicvBNzzw",
        "colab_type": "code",
        "colab": {}
      },
      "source": [
        "from os import walk, listdir\n",
        "\n",
        "\n",
        "path = 'img/'\n",
        "\n",
        "path_out = 'occmap/'\n",
        "for file in listdir(path):\n",
        "  cv2.imwrite(path_out + file, occ_map(path + file))"
      ],
      "execution_count": 0,
      "outputs": []
    },
    {
      "cell_type": "code",
      "metadata": {
        "id": "dMEV9P8cczy1",
        "colab_type": "code",
        "colab": {}
      },
      "source": [
        ""
      ],
      "execution_count": 0,
      "outputs": []
    }
  ]
}