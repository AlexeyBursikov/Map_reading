{
  "nbformat": 4,
  "nbformat_minor": 0,
  "metadata": {
    "colab": {
      "name": "occmap.ipynb",
      "provenance": [],
      "collapsed_sections": []
    },
    "kernelspec": {
      "name": "python3",
      "display_name": "Python 3"
    }
  },
  "cells": [
    {
      "cell_type": "code",
      "metadata": {
        "id": "P3ovnsdZcf6m",
        "colab_type": "code",
        "outputId": "0073d06c-0324-4f3c-a8e9-ee33c0dbf876",
        "colab": {
          "base_uri": "https://localhost:8080/",
          "height": 34
        }
      },
      "source": [
        "from google.colab import drive\n",
        "drive.mount('/content/drive/')"
      ],
      "execution_count": 39,
      "outputs": [
        {
          "output_type": "stream",
          "text": [
            "Drive already mounted at /content/drive/; to attempt to forcibly remount, call drive.mount(\"/content/drive/\", force_remount=True).\n"
          ],
          "name": "stdout"
        }
      ]
    },
    {
      "cell_type": "code",
      "metadata": {
        "id": "0PbqiClTc3ny",
        "colab_type": "code",
        "outputId": "0e152540-5949-4405-dbea-a1aaf09f73ef",
        "colab": {
          "base_uri": "https://localhost:8080/",
          "height": 51
        }
      },
      "source": [
        "%cd drive/My Drive/robot"
      ],
      "execution_count": 41,
      "outputs": [
        {
          "output_type": "stream",
          "text": [
            "[Errno 2] No such file or directory: 'drive/My Drive/robot'\n",
            "/content/drive/My Drive/robot\n"
          ],
          "name": "stdout"
        }
      ]
    },
    {
      "cell_type": "code",
      "metadata": {
        "id": "Jf1Hvfn0wnzY",
        "colab_type": "code",
        "outputId": "b6e020f8-b219-44c7-b4c2-daea7e590125",
        "colab": {
          "base_uri": "https://localhost:8080/",
          "height": 34
        }
      },
      "source": [
        "!ls"
      ],
      "execution_count": 40,
      "outputs": [
        {
          "output_type": "stream",
          "text": [
            "canny.jpg  CVC-FP  hough.jpg  images  ImagesGT\tlinesDetected.jpg  occmap.ipynb\n"
          ],
          "name": "stdout"
        }
      ]
    },
    {
      "cell_type": "code",
      "metadata": {
        "id": "ZFZqpAT0-55G",
        "colab_type": "code",
        "outputId": "5f267dde-a295-453d-d471-d76536124c3a",
        "colab": {
          "base_uri": "https://localhost:8080/",
          "height": 34
        }
      },
      "source": [
        "def findmap(img_vh):\n",
        "  h, w = img_vh.shape\n",
        "  l = w\n",
        "  r = 0\n",
        "  t = h\n",
        "  b = 0\n",
        "  min1 = max(h,w)\n",
        "  min2 = max(h,w)\n",
        "\n",
        "  for i in range(h//3):\n",
        "    unique1, counts1 = np.unique(img_vh[i,:], return_counts=True)\n",
        "\n",
        "    if min1 >= counts1[0]:\n",
        "      min1 = counts1[0]\n",
        "      l = i\n",
        "    unique2, counts2 = np.unique(img_vh[h-i-1,:], return_counts=True)\n",
        "    if min2 >= counts2[0]:\n",
        "      min2 = counts2[0]\n",
        "      r = h-i\n",
        "\n",
        "  min1 = max(h,w)\n",
        "  min2 = max(h,w)\n",
        "  for i in range(w//3):\n",
        "    unique1, counts1 = np.unique(img_vh[:,i], return_counts=True)\n",
        "\n",
        "    if min1 >= counts1[0]:\n",
        "      min1 = counts1[0]\n",
        "      t = i\n",
        "\n",
        "    unique2, counts2 = np.unique(img_vh[:,w-i-1], return_counts=True)\n",
        "\n",
        "    if min2 >= counts2[0]:\n",
        "      min2 = counts2[0]\n",
        "      b = w-i\n",
        "  #return l,r,t,b\n",
        "  return t, l, b, r\n",
        "\n",
        "findmap(img_vh)"
      ],
      "execution_count": 0,
      "outputs": [
        {
          "output_type": "execute_result",
          "data": {
            "text/plain": [
              "(16, 0, 726, 602)"
            ]
          },
          "metadata": {
            "tags": []
          },
          "execution_count": 25
        }
      ]
    },
    {
      "cell_type": "code",
      "metadata": {
        "id": "nDn8HYWpL8CP",
        "colab_type": "code",
        "colab": {}
      },
      "source": [
        "def find_img_vh(file):\n",
        "  img = cv2.imread(file,0)\n",
        "  img.shape\n",
        "  #thresholding the image to a binary image\n",
        "  thresh,img_bin = cv2.threshold(img,128,255,cv2.THRESH_BINARY |cv2.THRESH_OTSU)\n",
        "  #inverting the image \n",
        "  img_bin = 255-img_bin\n",
        "\n",
        "  # Length(width) of kernel as 100th of total width\n",
        "  kernel_len = np.array(img).shape[1]//100\n",
        "  # Defining a vertical kernel to detect all vertical lines of image \n",
        "  ver_kernel = cv2.getStructuringElement(cv2.MORPH_RECT, (1, kernel_len))\n",
        "  # Defining a horizontal kernel to detect all horizontal lines of image\n",
        "  hor_kernel = cv2.getStructuringElement(cv2.MORPH_RECT, (kernel_len, 1))\n",
        "  # A kernel of 2x2\n",
        "  kernel = cv2.getStructuringElement(cv2.MORPH_RECT, (2, 2))\n",
        "\n",
        "  #Use vertical kernel to detect and save the vertical lines in a jpg\n",
        "  image_1 = cv2.erode(img_bin, ver_kernel, iterations=3)\n",
        "  vertical_lines = cv2.dilate(image_1, ver_kernel, iterations=3)\n",
        "\n",
        "  #Use horizontal kernel to detect and save the horizontal lines in a jpg\n",
        "  image_2 = cv2.erode(img_bin, hor_kernel, iterations=3)\n",
        "  horizontal_lines = cv2.dilate(image_2, hor_kernel, iterations=3)\n",
        "\n",
        "  # Combine horizontal and vertical lines in a new third image, with both having same weight.\n",
        "  img_vh = cv2.addWeighted(vertical_lines, 0.5, horizontal_lines, 0.5, 0.0)\n",
        "  #Eroding and thesholding the image\n",
        "  img_vh = cv2.erode(~img_vh, kernel, iterations=2)\n",
        "  thresh, img_vh = cv2.threshold(img_vh,128,255, cv2.THRESH_BINARY | cv2.THRESH_OTSU)\n",
        "  return img_vh\n",
        "\n",
        "def crop_map(file):\n",
        "  img_vh = find_img_vh(file)\n",
        "  x1,y1,x2,y2=findmap(img_vh)\n",
        "  img = cv2.imread(file,1)\n",
        "  return img[y1:y2, x1:x2]\n",
        "\n",
        "\n",
        "def occ_map(file):\n",
        "  img = crop_map(file)\n",
        "\n",
        "  gray=cv2.threshold(img,200,255,cv2.THRESH_BINARY)[1]\n",
        "  #gray=cv2.blur(gray,(15,1))\n",
        "  dilate_kernel = cv2.getStructuringElement(cv2.MORPH_RECT, (1,1))\n",
        "  #dilate = cv2.erode(th, dilate_kernel, iterations=1)\n",
        "\n",
        "  dilate = cv2.dilate(gray, dilate_kernel, iterations=1)\n",
        "  dilate=cv2.cvtColor(dilate,cv2.COLOR_BGR2GRAY)\n",
        "  contours,hierarchy = cv2.findContours(dilate,cv2.RETR_TREE ,cv2.CHAIN_APPROX_NONE )\n",
        "  drawing = np.zeros(img.shape, np.uint8)\n",
        "  h,w,c = drawing.shape\n",
        "  min_area = h*w//100\n",
        "  for cnt in contours:\n",
        "      area = cv2.contourArea(cnt)\n",
        "      if area>min_area:\n",
        "          cv2.drawContours(drawing,[cnt],0,(255,0,0),1)\n",
        "\n",
        "  cv2_imshow(drawing)"
      ],
      "execution_count": 0,
      "outputs": []
    },
    {
      "cell_type": "code",
      "metadata": {
        "id": "cguIicvBNzzw",
        "colab_type": "code",
        "colab": {
          "base_uri": "https://localhost:8080/",
          "height": 244
        },
        "outputId": "b9166fba-ebb9-4cab-dc23-4a98eb5ad403"
      },
      "source": [
        "occ_map('images/map3.jpg')"
      ],
      "execution_count": 56,
      "outputs": [
        {
          "output_type": "display_data",
          "data": {
            "image/png": "[encoded data removed]",
            "text/plain": [
              "<PIL.Image.Image image mode=RGB size=360x227 at 0x7F2B5525E390>"
            ]
          },
          "metadata": {
            "tags": []
          }
        }
      ]
    },
    {
      "cell_type": "code",
      "metadata": {
        "id": "VB3CFl-E8mzz",
        "colab_type": "code",
        "colab": {}
      },
      "source": [
        ""
      ],
      "execution_count": 0,
      "outputs": []
    }
  ]
}